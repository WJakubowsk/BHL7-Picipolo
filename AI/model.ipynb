{
 "cells": [
  {
   "cell_type": "code",
   "execution_count": 1,
   "id": "070a422c",
   "metadata": {},
   "outputs": [],
   "source": [
    "import pandas as pd\n",
    "import numpy as np\n",
    "from sklearn.metrics import mean_absolute_error, max_error\n",
    "from sklearn.impute import KNNImputer\n",
    "from sklearn.model_selection import train_test_split\n",
    "from sklearn.preprocessing import MinMaxScaler\n",
    "from sklearn.ensemble import RandomForestRegressor\n",
    "from sklearn.preprocessing import OneHotEncoder\n",
    "from scipy.stats import skew\n",
    "import skopt,scipy\n",
    "import pickle\n",
    "import sys "
   ]
  },
  {
   "cell_type": "code",
   "execution_count": 2,
   "id": "7d50b4ba",
   "metadata": {},
   "outputs": [],
   "source": [
    "df = pd.read_csv('train_data.csv', on_bad_lines='skip')"
   ]
  },
  {
   "cell_type": "code",
   "execution_count": 3,
   "id": "6dcc98a5",
   "metadata": {},
   "outputs": [],
   "source": [
    "rf1 = pickle.load(open('rf1.sav', 'rb'))\n",
    "rf2 = pickle.load(open('rf2.sav', 'rb'))\n",
    "im1 = pickle.load(open('im1.sav', 'rb'))"
   ]
  },
  {
   "cell_type": "code",
   "execution_count": 4,
   "id": "21494858",
   "metadata": {},
   "outputs": [],
   "source": [
    "train, test = train_test_split(df, train_size=0.7, random_state=42, shuffle=True)"
   ]
  },
  {
   "cell_type": "code",
   "execution_count": 5,
   "id": "8d9b02d3",
   "metadata": {},
   "outputs": [],
   "source": [
    "def delete_column_rows(df, val):\n",
    "    df = df.drop(['BBLE','OWNER','BLOCK','LOT','BORO','STADDR','POSTCODE','AVLAND2','AVTOT2','EXLAND2','EXTOT2','EXCD2','PERIOD','VALTYPE','Community Board','Census Tract','BIN','NTA','New Georeferenced Column','Council District'], axis = 1)\n",
    "    val = val.drop(['BBLE','OWNER','BLOCK','LOT','BORO','STADDR','POSTCODE','AVLAND2','AVTOT2','EXLAND2','EXTOT2','EXCD2','PERIOD','VALTYPE','Community Board','Census Tract','BIN','NTA','New Georeferenced Column','Council District'], axis = 1)\n",
    "    df.loc[((df['LTFRONT'] * df['LTDEPTH']) == 0) & ((df['BLDFRONT'] * df['BLDDEPTH']) == 0),['LTFRONT','LTDEPTH','BLDDEPTH','BLDFRONT']] = np.nan\n",
    "    val.loc[((val['LTFRONT'] * val['LTDEPTH']) == 0) & ((val['BLDFRONT'] * val['BLDDEPTH']) == 0),['LTFRONT','LTDEPTH','BLDDEPTH','BLDFRONT']] = np.nan\n",
    "    df['BLDGCL'] = np.where(df['BLDGCL'].isin({'A5', 'R3', 'B2', 'A1', 'C0', 'B9', 'A2', 'B1', 'A9', 'A0', 'C1', 'B3', 'V0', 'R1', 'C7', 'R2'}),\n",
    "                           df['BLDGCL'], 'Other')\n",
    "    val['BLDGCL'] = np.where(val['BLDGCL'].isin({'A5', 'R3', 'B2', 'A1', 'C0', 'B9', 'A2', 'B1', 'A9', 'A0', 'C1', 'B3', 'V0', 'R1', 'C7', 'R2'}),\n",
    "                           val['BLDGCL'], 'Other')\n",
    "    df['YEAR'] = df['YEAR'].apply(lambda x: x[0:4])\n",
    "    val['YEAR'] = val['YEAR'].apply(lambda x: x[0:4])\n",
    "    df['LOTAREA'] = df['LTFRONT'] * df['LTDEPTH']    \n",
    "    df['BLDAREA'] = df['BLDFRONT'] * df['BLDDEPTH']\n",
    "    df = df.drop(['LTFRONT','LTDEPTH','BLDFRONT','BLDDEPTH'],axis = 1)\n",
    "    val['LOTAREA'] = val['LTFRONT'] * val['LTDEPTH']    \n",
    "    val['BLDAREA'] = val['BLDFRONT'] * val['BLDDEPTH']\n",
    "    val = val.drop(['LTFRONT','LTDEPTH','BLDFRONT','BLDDEPTH'],axis = 1)\n",
    "    return df, val"
   ]
  },
  {
   "cell_type": "code",
   "execution_count": 6,
   "id": "8faec6b2",
   "metadata": {},
   "outputs": [],
   "source": [
    "def fit(X_train, X_test, y_train, y_test, rf1, rf2, im1):\n",
    "    ohe = OneHotEncoder()\n",
    "    index = X_train.index\n",
    "    drop = X_train.drop(['EASEMENT','EXT','EXMPTCL','YEAR','Borough','BLDGCL','TAXCLASS'], axis=1)\n",
    "    X_train = ohe.fit_transform(X_train[['EASEMENT','EXT','EXMPTCL','YEAR','Borough','BLDGCL','TAXCLASS']]).toarray()\n",
    "    col = ohe.get_feature_names_out(['EASEMENT','EXT','EXMPTCL','YEAR','Borough','BLDGCL','TAXCLASS'])\n",
    "    X_train = pd.DataFrame(X_train, index = index, columns = col)\n",
    "    X_train = X_train.join(drop)\n",
    "    index = X_test.index\n",
    "    drop = X_test.drop(['EASEMENT','EXT','EXMPTCL','YEAR','Borough','BLDGCL','TAXCLASS'], axis=1)\n",
    "    X_test = ohe.transform(X_test[['EASEMENT','EXT','EXMPTCL','YEAR','Borough','BLDGCL','TAXCLASS']]).toarray()\n",
    "    X_test = pd.DataFrame(X_test, index = index, columns = col)\n",
    "    X_test = X_test.join(drop)\n",
    "    \n",
    "    im1 = KNNImputer(n_neighbors=1)\n",
    "    im1.fit(X_train)\n",
    "    X_train = pd.DataFrame(im1.transform(X_train.values), columns = X_train.columns, index = X_train.index)\n",
    "    X_test = pd.DataFrame(im1.transform(X_test.values), columns = X_test.columns, index = X_test.index)\n",
    "    X_train = X_train.drop(['YEAR_2017','EASEMENT_nan','EXT_nan','EXMPTCL_nan','Borough_nan'], axis = 1)\n",
    "    X_test = X_test.drop(['YEAR_2017','EASEMENT_nan','EXT_nan','EXMPTCL_nan','Borough_nan'], axis = 1)\n",
    "    \n",
    "    cols = ['STORIES','LOTAREA','BLDAREA']\n",
    "    \n",
    "    for column in cols:\n",
    "        high = np.quantile(X_train[column], 0.975)\n",
    "        X_train.loc[X_train[column] > high, column] = high\n",
    "        X_test.loc[X_test[column] > high, column] = high\n",
    "    \n",
    "    scaler = MinMaxScaler()\n",
    "    scaler.fit(X_train)\n",
    "    X_train = pd.DataFrame(scaler.transform(X_train.values), columns = X_train.columns, index = X_train.index)\n",
    "    X_test = pd.DataFrame(scaler.transform(X_test.values), columns = X_test.columns, index = X_test.index)\n",
    "    \n",
    "    \n",
    "    rf1.fit(X_train,y_train)\n",
    "    q = np.quantile(rf1.feature_importances_, 0.5)\n",
    "    weak_columns = rf1.feature_names_in_[np.where(rf1.feature_importances_ < q)]\n",
    "    X_train.drop(weak_columns, axis=1, inplace=True)\n",
    "    X_test.drop(weak_columns, axis=1, inplace=True)\n",
    "    \n",
    "    rf2.fit(X_train,y_train)\n",
    "    importance = rf2.feature_importances_\n",
    "    col_importance = pd.DataFrame({'col': X_train.columns, 'importance': importance}, columns=['col','importance'])\n",
    "    corr_matrix = X_train.corr(method='pearson').abs()\n",
    "    upper = corr_matrix.where(np.triu(np.ones(corr_matrix.shape), k=1).astype(np.bool))\n",
    "    to_drop = []\n",
    "    j=1\n",
    "    for column in upper.columns:\n",
    "        if(j == upper.columns.size):\n",
    "            break\n",
    "        j+=1\n",
    "        if any(upper[column]>0.8):\n",
    "            correlated = upper[upper[column]>0.8].index\n",
    "            most_important = column\n",
    "            for col in correlated:\n",
    "                if col_importance.loc[col_importance.col == col]['importance'].values[0] > col_importance.loc[col_importance.col == most_important]['importance'].values[0]:\n",
    "                    to_drop.append(most_important)\n",
    "                    most_important = col\n",
    "                else:\n",
    "                    to_drop.append(col)\n",
    "\n",
    "    corr_matrix = X_train.corr(method='spearman').abs()\n",
    "    upper = corr_matrix.where(np.triu(np.ones(corr_matrix.shape), k=1).astype(np.bool))\n",
    "    j=1\n",
    "    for column in upper.columns:\n",
    "        if(j == upper.columns.size):\n",
    "            break\n",
    "        j+=1\n",
    "        if any(upper[column]>0.8):\n",
    "            correlated = upper[upper[column]>0.8].index\n",
    "            most_important = column\n",
    "            for col in correlated:\n",
    "                if col_importance.loc[col_importance.col == col]['importance'].values[0] > col_importance.loc[col_importance.col == most_important]['importance'].values[0]:\n",
    "                    to_drop.append(most_important)\n",
    "                    most_important = col\n",
    "                else:\n",
    "                    to_drop.append(col)\n",
    "    X_train.drop(to_drop, axis=1, inplace=True)\n",
    "    X_test.drop(to_drop, axis=1, inplace=True)\n",
    "    \n",
    "    numeric_features = list(X_train.select_dtypes(\"float64\").columns)\n",
    "\n",
    "    high_skewness = []\n",
    "\n",
    "    for el in numeric_features:\n",
    "        if skew(X_train[el])  > 1.5:\n",
    "            high_skewness.append(el)\n",
    "    \n",
    "    X_train[high_skewness] = np.log2(X_train[high_skewness] + sys.float_info.epsilon)\n",
    "    X_test[high_skewness] = np.log2(X_test[high_skewness] + sys.float_info.epsilon)\n",
    "#     X_train[high_skewness] = X_train[high_skewness].apply(lambda x: 1/(x + sys.float_info.epsilon))\n",
    "#     X_test[high_skewness] = X_test[high_skewness].apply(lambda x: 1/(x + sys.float_info.epsilon))\n",
    "    \n",
    "    return X_train, X_test, y_train, y_test"
   ]
  },
  {
   "cell_type": "code",
   "execution_count": 7,
   "id": "33e314f6",
   "metadata": {},
   "outputs": [],
   "source": [
    "def pipe(train, test,rf1,rf2,im1):\n",
    "    train, test = delete_column_rows(train, test)\n",
    "    y_train = train['FULLVAL']\n",
    "    X_train = train.drop('FULLVAL', axis = 1)\n",
    "    y_test = test['FULLVAL']\n",
    "    X_test = test.drop('FULLVAL', axis = 1)\n",
    "    X_train, X_test, y_train, y_test = fit(X_train, X_test, y_train, y_test,rf1,rf2,im1)\n",
    "    return X_train, X_test, y_train, y_test\n",
    "    "
   ]
  },
  {
   "cell_type": "code",
   "execution_count": 8,
   "id": "a70c1005",
   "metadata": {
    "scrolled": true
   },
   "outputs": [
    {
     "name": "stderr",
     "output_type": "stream",
     "text": [
      "C:\\Users\\ltoma\\anaconda3\\lib\\site-packages\\sklearn\\base.py:450: UserWarning: X does not have valid feature names, but KNNImputer was fitted with feature names\n",
      "  warnings.warn(\n",
      "C:\\Users\\ltoma\\anaconda3\\lib\\site-packages\\sklearn\\base.py:450: UserWarning: X does not have valid feature names, but KNNImputer was fitted with feature names\n",
      "  warnings.warn(\n",
      "C:\\Users\\ltoma\\anaconda3\\lib\\site-packages\\sklearn\\base.py:450: UserWarning: X does not have valid feature names, but MinMaxScaler was fitted with feature names\n",
      "  warnings.warn(\n",
      "C:\\Users\\ltoma\\anaconda3\\lib\\site-packages\\sklearn\\base.py:450: UserWarning: X does not have valid feature names, but MinMaxScaler was fitted with feature names\n",
      "  warnings.warn(\n",
      "<ipython-input-6-e29a3829bcc5>:45: DeprecationWarning: `np.bool` is a deprecated alias for the builtin `bool`. To silence this warning, use `bool` by itself. Doing this will not modify any behavior and is safe. If you specifically wanted the numpy scalar type, use `np.bool_` here.\n",
      "Deprecated in NumPy 1.20; for more details and guidance: https://numpy.org/devdocs/release/1.20.0-notes.html#deprecations\n",
      "  upper = corr_matrix.where(np.triu(np.ones(corr_matrix.shape), k=1).astype(np.bool))\n",
      "<ipython-input-6-e29a3829bcc5>:63: DeprecationWarning: `np.bool` is a deprecated alias for the builtin `bool`. To silence this warning, use `bool` by itself. Doing this will not modify any behavior and is safe. If you specifically wanted the numpy scalar type, use `np.bool_` here.\n",
      "Deprecated in NumPy 1.20; for more details and guidance: https://numpy.org/devdocs/release/1.20.0-notes.html#deprecations\n",
      "  upper = corr_matrix.where(np.triu(np.ones(corr_matrix.shape), k=1).astype(np.bool))\n"
     ]
    },
    {
     "name": "stdout",
     "output_type": "stream",
     "text": [
      "111977.73344507335\n"
     ]
    },
    {
     "data": {
      "text/plain": [
       "27734937.64"
      ]
     },
     "execution_count": 8,
     "metadata": {},
     "output_type": "execute_result"
    }
   ],
   "source": [
    "X_train, X_test, y_train, y_test = pipe(train,test,rf1,rf2,im1)\n",
    "model = pickle.load(open('finalizedmodel.sav', 'rb'))\n",
    "model.fit(X_train, y_train)\n",
    "y_pred = model.predict(X_test)\n",
    "print(mean_absolute_error(y_pred, y_test))\n",
    "max_error(y_pred, y_test)"
   ]
  }
 ],
 "metadata": {
  "kernelspec": {
   "display_name": "Python 3",
   "language": "python",
   "name": "python3"
  },
  "language_info": {
   "codemirror_mode": {
    "name": "ipython",
    "version": 3
   },
   "file_extension": ".py",
   "mimetype": "text/x-python",
   "name": "python",
   "nbconvert_exporter": "python",
   "pygments_lexer": "ipython3",
   "version": "3.8.8"
  }
 },
 "nbformat": 4,
 "nbformat_minor": 5
}
