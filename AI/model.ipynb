{
 "cells": [
  {
   "cell_type": "code",
   "execution_count": 1,
   "id": "01c96bcf",
   "metadata": {},
   "outputs": [],
   "source": [
    "import pandas as pd\n",
    "import numpy as np\n",
    "from sklearn.metrics import mean_absolute_error, max_error\n",
    "from sklearn.impute import KNNImputer\n",
    "from sklearn.model_selection import train_test_split\n",
    "from sklearn.preprocessing import MinMaxScaler\n",
    "from sklearn.ensemble import RandomForestRegressor\n"
   ]
  },
  {
   "cell_type": "code",
   "execution_count": 2,
   "id": "22dd0a16",
   "metadata": {},
   "outputs": [],
   "source": [
    "df = pd.read_csv('train_data.csv', on_bad_lines='skip')"
   ]
  },
  {
   "cell_type": "code",
   "execution_count": 3,
   "id": "68f197c9",
   "metadata": {},
   "outputs": [],
   "source": [
    "def prepro(df):\n",
    "    df = pd.read_csv('train_data.csv', on_bad_lines='skip')\n",
    "    df = df.drop(['BBLE','BLOCK','LOT','OWNER','BORO','EXCD1','STADDR','POSTCODE','AVLAND2','AVTOT2','EXLAND2','EXTOT2','EXCD2','PERIOD','VALTYPE','Community Board','Census Tract','BIN','NTA','New Georeferenced Column'], axis = 1)\n",
    "    df['BLDGCL'] = np.where(df['BLDGCL'].isin({'A5', 'R3', 'B2', 'A1', 'C0', 'B9', 'A2', 'B1', 'A9', 'A0', 'C1', 'B3', 'V0', 'R1', 'C7', 'R2'}),\n",
    "                           df['BLDGCL'], 'Other')\n",
    "    df['TAXCLASS'] = df['TAXCLASS'].apply(lambda x: x[0:1])\n",
    "    df = df.drop(df[df['FULLVAL'] == 0].index)\n",
    "    y = df['FULLVAL']\n",
    "    df = df.drop('FULLVAL', axis=1)\n",
    "    df['YEAR'] = df['YEAR'].apply(lambda x: x[0:4])\n",
    "    \n",
    "    df = pd.get_dummies(df, columns=['EASEMENT','TAXCLASS','EXT','EXMPTCL','YEAR','Borough','BLDGCL'])\n",
    "    \n",
    "    \n",
    "    \n",
    "    imputer = KNNImputer(n_neighbors=1)\n",
    "    imputer.fit(df)\n",
    "    df = pd.DataFrame(imputer.transform(df.values), columns = df.columns, index = df.index)\n",
    "    df = pd.get_dummies(df, columns=['Council District'])\n",
    "    \n",
    "    \n",
    "    scaler = MinMaxScaler()\n",
    "    scaler.fit(df)\n",
    "    df = pd.DataFrame(scaler.transform(df.values), columns = df.columns, index = df.index)\n",
    "    \n",
    "    \n",
    "    return df,y\n",
    "    \n",
    "    "
   ]
  },
  {
   "cell_type": "code",
   "execution_count": 4,
   "id": "b15ca941",
   "metadata": {
    "scrolled": true
   },
   "outputs": [
    {
     "name": "stderr",
     "output_type": "stream",
     "text": [
      "C:\\Users\\ltoma\\anaconda3\\lib\\site-packages\\sklearn\\base.py:450: UserWarning: X does not have valid feature names, but KNNImputer was fitted with feature names\n",
      "  warnings.warn(\n",
      "C:\\Users\\ltoma\\anaconda3\\lib\\site-packages\\sklearn\\base.py:450: UserWarning: X does not have valid feature names, but MinMaxScaler was fitted with feature names\n",
      "  warnings.warn(\n"
     ]
    }
   ],
   "source": [
    "df,y = prepro(df)"
   ]
  },
  {
   "cell_type": "code",
   "execution_count": 5,
   "id": "96d10f89",
   "metadata": {},
   "outputs": [
    {
     "data": {
      "text/plain": [
       "RandomForestRegressor()"
      ]
     },
     "execution_count": 5,
     "metadata": {},
     "output_type": "execute_result"
    }
   ],
   "source": [
    "rf = RandomForestRegressor()\n",
    "rf.fit(df,y)"
   ]
  },
  {
   "cell_type": "code",
   "execution_count": 6,
   "id": "c22dd7ae",
   "metadata": {
    "scrolled": true
   },
   "outputs": [
    {
     "data": {
      "text/plain": [
       "38"
      ]
     },
     "execution_count": 6,
     "metadata": {},
     "output_type": "execute_result"
    }
   ],
   "source": [
    "q = np.quantile(rf.feature_importances_, 0.50)\n",
    "weak_columns = rf.feature_names_in_[np.where(rf.feature_importances_ < q)]\n",
    "len(weak_columns)"
   ]
  },
  {
   "cell_type": "code",
   "execution_count": 7,
   "id": "b157a582",
   "metadata": {},
   "outputs": [],
   "source": [
    "df.drop(weak_columns, axis=1, inplace=True)"
   ]
  },
  {
   "cell_type": "code",
   "execution_count": 8,
   "id": "a25dc172",
   "metadata": {},
   "outputs": [
    {
     "data": {
      "text/plain": [
       "Index(['LTFRONT', 'LTDEPTH', 'STORIES', 'AVLAND', 'AVTOT', 'EXLAND', 'EXTOT',\n",
       "       'BLDFRONT', 'BLDDEPTH', 'Latitude', 'Longitude', 'TAXCLASS_1',\n",
       "       'TAXCLASS_2', 'TAXCLASS_4', 'EXT_E', 'EXMPTCL_X1', 'EXMPTCL_X3',\n",
       "       'YEAR_2017', 'YEAR_2018', 'Borough_BRONX', 'Borough_BROOKLYN',\n",
       "       'Borough_MANHATTAN', 'Borough_STATEN IS', 'BLDGCL_A5', 'BLDGCL_B1',\n",
       "       'BLDGCL_B3', 'BLDGCL_C1', 'BLDGCL_C7', 'BLDGCL_Other', 'BLDGCL_R1',\n",
       "       'BLDGCL_V0', 'Council District_1.0', 'Council District_8.0',\n",
       "       'Council District_14.0', 'Council District_17.0',\n",
       "       'Council District_33.0', 'Council District_38.0',\n",
       "       'Council District_51.0'],\n",
       "      dtype='object')"
      ]
     },
     "execution_count": 8,
     "metadata": {},
     "output_type": "execute_result"
    }
   ],
   "source": [
    "df.columns"
   ]
  },
  {
   "cell_type": "code",
   "execution_count": 9,
   "id": "aca6f11c",
   "metadata": {},
   "outputs": [],
   "source": [
    "X_train, X_test, y_train, y_test = train_test_split(df,y, test_size=0.3, random_state=42, shuffle=True)"
   ]
  },
  {
   "cell_type": "code",
   "execution_count": 10,
   "id": "85979d7e",
   "metadata": {},
   "outputs": [
    {
     "name": "stderr",
     "output_type": "stream",
     "text": [
      "C:\\Users\\ltoma\\anaconda3\\lib\\site-packages\\xgboost\\compat.py:36: FutureWarning: pandas.Int64Index is deprecated and will be removed from pandas in a future version. Use pandas.Index with the appropriate dtype instead.\n",
      "  from pandas import MultiIndex, Int64Index\n"
     ]
    }
   ],
   "source": [
    "from xgboost import XGBRegressor"
   ]
  },
  {
   "cell_type": "code",
   "execution_count": 11,
   "id": "85467f87",
   "metadata": {},
   "outputs": [
    {
     "name": "stderr",
     "output_type": "stream",
     "text": [
      "C:\\Users\\ltoma\\anaconda3\\lib\\site-packages\\xgboost\\data.py:262: FutureWarning: pandas.Int64Index is deprecated and will be removed from pandas in a future version. Use pandas.Index with the appropriate dtype instead.\n",
      "  elif isinstance(data.columns, (pd.Int64Index, pd.RangeIndex)):\n"
     ]
    },
    {
     "data": {
      "text/plain": [
       "173754.72891511364"
      ]
     },
     "execution_count": 11,
     "metadata": {},
     "output_type": "execute_result"
    }
   ],
   "source": [
    "model = XGBRegressor()\n",
    "model.fit(X_train, y_train)\n",
    "y_pred = model.predict(X_test)\n",
    "mean_absolute_error(y_pred,y_test)"
   ]
  },
  {
   "cell_type": "code",
   "execution_count": 12,
   "id": "83255e2e",
   "metadata": {},
   "outputs": [
    {
     "name": "stderr",
     "output_type": "stream",
     "text": [
      "C:\\Users\\ltoma\\anaconda3\\lib\\site-packages\\xgboost\\data.py:262: FutureWarning: pandas.Int64Index is deprecated and will be removed from pandas in a future version. Use pandas.Index with the appropriate dtype instead.\n",
      "  elif isinstance(data.columns, (pd.Int64Index, pd.RangeIndex)):\n"
     ]
    },
    {
     "data": {
      "text/plain": [
       "46608.92773407741"
      ]
     },
     "execution_count": 12,
     "metadata": {},
     "output_type": "execute_result"
    }
   ],
   "source": [
    "y_pred = model.predict(X_train)\n",
    "mean_absolute_error(y_pred,y_train)"
   ]
  },
  {
   "cell_type": "code",
   "execution_count": 13,
   "id": "d29d419f",
   "metadata": {},
   "outputs": [],
   "source": [
    "# from sklearn.ensemble import StackingRegressor\n",
    "# from sklearn.ensemble import AdaBoostRegressor\n",
    "# from sklearn.ensemble import GradientBoostingRegressor\n",
    "# from sklearn.svm import SVC\n",
    "# from sklearn.naive_bayes import GaussianNB\n",
    "# from sklearn.linear_model import LinearRegression\n",
    "# estimators = list()\n",
    "# estimators.append(('rf', RandomForestRegressor()))\n",
    "# estimators.append(('ada', AdaBoostRegressor()))\n",
    "# estimators.append(('gboost', GradientBoostingRegressor()))\n",
    "# estimators.append(('xgb', XGBRegressor(verbosity = 0)))\n",
    "# f_estimator = LinearRegression()\n",
    "# model10 = StackingRegressor(estimators=estimators, final_estimator=f_estimator)\n",
    "# model10.fit(X_train, y_train)\n",
    "# y_pred = model10.predict(X_test)\n",
    "# mean_absolute_error(y_pred,y_test)"
   ]
  },
  {
   "cell_type": "code",
   "execution_count": 14,
   "id": "eeb8776f",
   "metadata": {},
   "outputs": [
    {
     "data": {
      "text/plain": [
       "136113.61446245734"
      ]
     },
     "execution_count": 14,
     "metadata": {},
     "output_type": "execute_result"
    }
   ],
   "source": [
    "model = RandomForestRegressor()\n",
    "model.fit(X_train, y_train)\n",
    "y_pred = model.predict(X_test)\n",
    "mean_absolute_error(y_pred,y_test)"
   ]
  },
  {
   "cell_type": "code",
   "execution_count": 15,
   "id": "67160159",
   "metadata": {},
   "outputs": [
    {
     "data": {
      "text/plain": [
       "52397140.0"
      ]
     },
     "execution_count": 15,
     "metadata": {},
     "output_type": "execute_result"
    }
   ],
   "source": [
    "max_error(y_pred,y_test)"
   ]
  },
  {
   "cell_type": "code",
   "execution_count": 21,
   "id": "d92dbd87",
   "metadata": {},
   "outputs": [
    {
     "data": {
      "text/plain": [
       "60153.02786079961"
      ]
     },
     "execution_count": 21,
     "metadata": {},
     "output_type": "execute_result"
    }
   ],
   "source": [
    "y_pred = model.predict(X_train)\n",
    "mean_absolute_error(y_pred,y_train)"
   ]
  }
 ],
 "metadata": {
  "kernelspec": {
   "display_name": "Python 3",
   "language": "python",
   "name": "python3"
  },
  "language_info": {
   "codemirror_mode": {
    "name": "ipython",
    "version": 3
   },
   "file_extension": ".py",
   "mimetype": "text/x-python",
   "name": "python",
   "nbconvert_exporter": "python",
   "pygments_lexer": "ipython3",
   "version": "3.8.8"
  }
 },
 "nbformat": 4,
 "nbformat_minor": 5
}
